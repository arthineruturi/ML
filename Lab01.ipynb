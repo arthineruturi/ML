{
  "nbformat": 4,
  "nbformat_minor": 0,
  "metadata": {
    "colab": {
      "provenance": [],
      "authorship_tag": "ABX9TyNSzvvM+2wuxIBDVOFu9F7M",
      "include_colab_link": true
    },
    "kernelspec": {
      "name": "python3",
      "display_name": "Python 3"
    },
    "language_info": {
      "name": "python"
    }
  },
  "cells": [
    {
      "cell_type": "markdown",
      "metadata": {
        "id": "view-in-github",
        "colab_type": "text"
      },
      "source": [
        "<a href=\"https://colab.research.google.com/github/arthineruturi/ML/blob/main/Lab01.ipynb\" target=\"_parent\"><img src=\"https://colab.research.google.com/assets/colab-badge.svg\" alt=\"Open In Colab\"/></a>"
      ]
    },
    {
      "cell_type": "markdown",
      "source": [
        "**NUMPY ARRAYS**\n"
      ],
      "metadata": {
        "id": "YP9ffdvnj_Bd"
      }
    },
    {
      "cell_type": "code",
      "execution_count": null,
      "metadata": {
        "id": "lGgXjz92d7l7",
        "colab": {
          "base_uri": "https://localhost:8080/"
        },
        "outputId": "e4302d4d-6183-4d46-f745-d7dc3f4e3009"
      },
      "outputs": [
        {
          "output_type": "stream",
          "name": "stdout",
          "text": [
            "(3,)\n",
            "<class 'numpy.ndarray'>\n",
            "1 2 3\n",
            "[4 2 3]\n",
            "\n",
            "\n",
            "(2, 3)\n",
            "<class 'numpy.ndarray'>\n",
            "4\n",
            "[[1 2 3]\n",
            " [4 5 6]]\n"
          ]
        }
      ],
      "source": [
        "import numpy as np \n",
        "\n",
        "a=np.array([1,2,3])\n",
        "print(a.shape)\n",
        "print(type(a))\n",
        "print(a[0],a[1],a[2])\n",
        "a[0]=4\n",
        "print(a)\n",
        "\n",
        "print(\"\\n\")\n",
        "\n",
        "b=np.array([[1,2,3],[4,5,6]])\n",
        "print(b.shape)\n",
        "print(type(b))\n",
        "print(b[1,0])\n",
        "print(b)"
      ]
    },
    {
      "cell_type": "markdown",
      "source": [],
      "metadata": {
        "id": "xZUx_XSqj4uf"
      }
    }
  ]
}